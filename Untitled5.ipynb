{
  "nbformat": 4,
  "nbformat_minor": 0,
  "metadata": {
    "colab": {
      "provenance": [],
      "authorship_tag": "ABX9TyMHaTCGiRCDH6xFRVeRt+hB",
      "include_colab_link": true
    },
    "kernelspec": {
      "name": "python3",
      "display_name": "Python 3"
    },
    "language_info": {
      "name": "python"
    }
  },
  "cells": [
    {
      "cell_type": "markdown",
      "metadata": {
        "id": "view-in-github",
        "colab_type": "text"
      },
      "source": [
        "<a href=\"https://colab.research.google.com/github/annidakamila07-ops/ddp_2025/blob/main/Untitled5.ipynb\" target=\"_parent\"><img src=\"https://colab.research.google.com/assets/colab-badge.svg\" alt=\"Open In Colab\"/></a>"
      ]
    },
    {
      "cell_type": "code",
      "execution_count": 2,
      "metadata": {
        "colab": {
          "base_uri": "https://localhost:8080/"
        },
        "id": "HA1AxCp_0A4j",
        "outputId": "be43bc9b-a3af-4323-ef88-b708837beb0a"
      },
      "outputs": [
        {
          "output_type": "stream",
          "name": "stdout",
          "text": [
            "['vario ', 'motor', 160, 2]\n",
            "['vario ', 'motor', 160, 2, 5000, 'metic']\n",
            "['vario ', 'motor', 'honda', 160, 2, 5000, 'metic']\n"
          ]
        }
      ],
      "source": [
        "namakendaraan = \"vario \"\n",
        "jeniskendaraan = \"motor\"\n",
        "cckendaraan = 160\n",
        "warnakendaraan = \"hitam\"\n",
        "rodakendaraan = 2\n",
        "\n",
        "data_kendaraan = [namakendaraan, jeniskendaraan, cckendaraan, rodakendaraan]\n",
        "print(data_kendaraan)\n",
        "\n",
        "hargakendaraan = 5000\n",
        "tipekendaraan = \"metic\"\n",
        "\n",
        "data_kendaraan.append(hargakendaraan)\n",
        "data_kendaraan.append(tipekendaraan)\n",
        "print(data_kendaraan)\n",
        "\n",
        "merkkendaraan = \"honda\"\n",
        "data_kendaraan.insert(2, merkkendaraan)\n",
        "print(data_kendaraan)"
      ]
    },
    {
      "cell_type": "code",
      "source": [
        "pilihan = int(input(\"\"\"\n",
        "silahkan pilih menu yang diinginkan\n",
        "===================================\n",
        "1. luas persegi\n",
        "2. luas lingkaran\n",
        "3. luas segitiga\n",
        "===================================\n",
        "kirimkan hanya angka saja.\n",
        "jawaban = \"\"\"))\n",
        "\n",
        "print(type(pilihan))\n",
        "match pilihan:\n",
        "   case 1:\n",
        "     sisi = int(input(\"sisi = \"))\n",
        "     luas = sisi * sisi\n",
        "\n",
        "     print(f\"luas persegi dengan sisi {sisi} adalah {luas}\")\n",
        "     #luas persegi\n",
        "\n",
        "   case 2:\n",
        "     #luas lingkaran\n",
        "     #phi * jarijari**2\n",
        "     print(\"anda memilih luas segitiga silahkan isi data di bawah\")\n",
        "     jarijari = int(input(\"jarijari = \"))\n",
        "     luas = 3.14 * jarijari**2\n",
        "\n",
        "   case 3:\n",
        "     #luas segitiga\n",
        "     #(alas * tinggi)/2\n",
        "     print(\"\")\n",
        "\n",
        "   case _:\n",
        "     print(\"gatau deh\")"
      ],
      "metadata": {
        "id": "yXhBhpm-8VYK"
      },
      "execution_count": null,
      "outputs": []
    }
  ]
}